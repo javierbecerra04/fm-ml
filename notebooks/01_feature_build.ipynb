{
 "cells": [
  {
   "cell_type": "markdown",
   "id": "c87911e3",
   "metadata": {},
   "source": [
    "# Feature Engineering\n",
    "\n",
    "Build features: rolling Elo, form, fatigue, role bundles."
   ]
  }
 ],
 "metadata": {},
 "nbformat": 4,
 "nbformat_minor": 5
}