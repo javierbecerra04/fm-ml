{
 "cells": [
  {
   "cell_type": "markdown",
   "id": "8adfe68c",
   "metadata": {},
   "source": [
    "# Transfer Value Model\n",
    "\n",
    "Predict player market value using regression models."
   ]
  }
 ],
 "metadata": {},
 "nbformat": 4,
 "nbformat_minor": 5
}