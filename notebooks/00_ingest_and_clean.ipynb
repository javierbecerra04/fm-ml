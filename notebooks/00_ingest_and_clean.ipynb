{
 "cells": [
  {
   "cell_type": "markdown",
   "id": "6c885f90",
   "metadata": {},
   "source": [
    "# Ingest & Clean\n",
    "\n",
    "Load raw CSVs from `data/raw/`, fix dtypes, remove duplicates, handle missing values."
   ]
  },
  {
   "cell_type": "code",
   "execution_count": 1,
   "id": "3213d68c",
   "metadata": {},
   "outputs": [
    {
     "data": {
      "text/plain": [
       "(WindowsPath('C:/Users/javie/Documents/personal_projects/fm-ml/data/raw'),\n",
       " WindowsPath('C:/Users/javie/Documents/personal_projects/fm-ml/data/interim'))"
      ]
     },
     "execution_count": 1,
     "metadata": {},
     "output_type": "execute_result"
    }
   ],
   "source": [
    "# Setup: import utils and display paths\n",
    "from pathlib import Path\n",
    "import pandas as pd\n",
    "from src.utils.ingest import load_raw_csvs, save_interim\n",
    "from src.utils.paths import RAW_DIR, INTERIM_DIR\n",
    "RAW_DIR, INTERIM_DIR"
   ]
  },
  {
   "cell_type": "code",
   "execution_count": 2,
   "id": "ae8629f0",
   "metadata": {},
   "outputs": [
    {
     "data": {
      "text/plain": [
       "([], {})"
      ]
     },
     "execution_count": 2,
     "metadata": {},
     "output_type": "execute_result"
    }
   ],
   "source": [
    "# Load all raw CSVs in data/raw\n",
    "raw = load_raw_csvs()\n",
    "list(raw.keys()), {k: v.shape for k, v in raw.items()}"
   ]
  },
  {
   "cell_type": "code",
   "execution_count": 3,
   "id": "f214ae19",
   "metadata": {},
   "outputs": [],
   "source": [
    "# Example cleaning function you can adapt\n",
    "def basic_clean(df: pd.DataFrame) -> pd.DataFrame:\n",
    "    out = df.copy()\n",
    "    # Standardize column names\n",
    "    out.columns = [c.strip().lower().replace(\" \", \"_\") for c in out.columns]\n",
    "    # Drop exact duplicates\n",
    "    out = out.drop_duplicates()\n",
    "    return out\n",
    "\n",
    "# If a 'players' CSV exists, clean and preview\n",
    "if 'players' in raw:\n",
    "    players_clean = basic_clean(raw['players'])\n",
    "    players_clean.head()"
   ]
  },
  {
   "cell_type": "code",
   "execution_count": 4,
   "id": "d4e5a79b",
   "metadata": {},
   "outputs": [],
   "source": [
    "# Save cleaned data to interim as Parquet\n",
    "if 'players' in globals():\n",
    "    out_path = save_interim(players_clean, 'players_cleaned')\n",
    "    out_path, out_path.exists()"
   ]
  },
  {
   "cell_type": "markdown",
   "id": "ad933d3c",
   "metadata": {},
   "source": [
    "## Next steps\n",
    "- Build features in `01_feature_build.ipynb` using `src/features/`.\n",
    "- Train a baseline in `02_match_outcome_baseline.ipynb`."
   ]
  },
  {
   "cell_type": "code",
   "execution_count": 19,
   "id": "8389ede4",
   "metadata": {},
   "outputs": [
    {
     "data": {
      "text/plain": [
       "(['squad_1', 'squad_mental', 'squad_physical', 'squad_technical'],\n",
       " {'squad_1': (29, 35),\n",
       "  'squad_mental': (29, 18),\n",
       "  'squad_physical': (29, 12),\n",
       "  'squad_technical': (29, 32)})"
      ]
     },
     "execution_count": 19,
     "metadata": {},
     "output_type": "execute_result"
    }
   ],
   "source": [
    "# Load FM HTML exports\n",
    "from src.utils.ingest import load_raw_htmls, parse_fm_html_table\n",
    "html = load_raw_htmls()\n",
    "list(html.keys()), {k: v.shape for k, v in html.items()}"
   ]
  },
  {
   "cell_type": "code",
   "execution_count": 16,
   "id": "da108f3f",
   "metadata": {},
   "outputs": [],
   "source": [
    "# Save squad table (first HTML) to interim\n",
    "if html:\n",
    "    first_key = sorted(html.keys())[0]\n",
    "    squad_df = html[first_key]\n",
    "    out_path = save_interim(squad_df, f\"{first_key}_cleaned\")\n",
    "    out_path"
   ]
  },
  {
   "cell_type": "code",
   "execution_count": 22,
   "id": "89183d5c",
   "metadata": {},
   "outputs": [],
   "source": [
    "# Merge multiple squad tables into a single per-player dataset\n",
    "from src.features.squad import merge_squad_tables\n",
    "if html:\n",
    "    squad_merged = merge_squad_tables(html)\n",
    "    squad_merged.shape, squad_merged.columns[:10].tolist()"
   ]
  },
  {
   "cell_type": "code",
   "execution_count": 24,
   "id": "622a4b07",
   "metadata": {},
   "outputs": [
    {
     "name": "stdout",
     "output_type": "stream",
     "text": [
      "Columns: ['age', 'apps', 'mins', 'av_rat', 'Player', 'gl_mst', 'int_90', 'pres_c_90', 'tck_r', 'tck_90', 'tcon_90', 'k_hdrs', 'hdrs_w_90', 'cr_c_a', 'ch_c_90', 'op_kp_90', 'drb_90', 'asts_90', 'op_kp', 'ast', 'xa', 'tgls_90', 'pts_gm', 'xg', 'gls', 'xg_shot', 'gls_90', 'sht_90', 'shot', 'ability', 'potential', 'det', 'personality', 'apps', 'apps_subs']\n",
      "Duplicates: 1\n"
     ]
    }
   ],
   "source": [
    "# Save merged squad features\n",
    "from src.utils.paths import FEATURES_DIR\n",
    "if 'squad_merged' in globals():\n",
    "    # Debug: check for duplicates\n",
    "    print(\"Columns:\", list(squad_merged.columns))\n",
    "    print(\"Duplicates:\", squad_merged.columns.duplicated().sum())\n",
    "    \n",
    "    # Manual fix: make columns unique\n",
    "    cols = squad_merged.columns.tolist()\n",
    "    seen = {}\n",
    "    unique_cols = []\n",
    "    for c in cols:\n",
    "        if c in seen:\n",
    "            seen[c] += 1\n",
    "            unique_cols.append(f\"{c}__dup{seen[c]}\")\n",
    "        else:\n",
    "            seen[c] = 0\n",
    "            unique_cols.append(c)\n",
    "    squad_merged.columns = unique_cols\n",
    "    \n",
    "    FEATURES_DIR.mkdir(parents=True, exist_ok=True)\n",
    "    feat_path = FEATURES_DIR / 'squad_features.parquet'\n",
    "    squad_merged.to_parquet(feat_path, index=False)\n",
    "    feat_path, feat_path.exists()"
   ]
  }
 ],
 "metadata": {
  "kernelspec": {
   "display_name": ".venv",
   "language": "python",
   "name": "python3"
  },
  "language_info": {
   "codemirror_mode": {
    "name": "ipython",
    "version": 3
   },
   "file_extension": ".py",
   "mimetype": "text/x-python",
   "name": "python",
   "nbconvert_exporter": "python",
   "pygments_lexer": "ipython3",
   "version": "3.12.10"
  }
 },
 "nbformat": 4,
 "nbformat_minor": 5
}
