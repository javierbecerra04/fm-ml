{
 "cells": [
  {
   "cell_type": "markdown",
   "id": "6c885f90",
   "metadata": {},
   "source": [
    "# Ingest & Clean\n",
    "\n",
    "Load raw CSVs from `data/raw/`, fix dtypes, remove duplicates, handle missing values."
   ]
  },
  {
   "cell_type": "code",
   "execution_count": 1,
   "id": "3213d68c",
   "metadata": {},
   "outputs": [
    {
     "data": {
      "text/plain": [
       "(WindowsPath('C:/Users/javie/Documents/personal_projects/fm-ml/data/raw'),\n",
       " WindowsPath('C:/Users/javie/Documents/personal_projects/fm-ml/data/interim'))"
      ]
     },
     "execution_count": 1,
     "metadata": {},
     "output_type": "execute_result"
    }
   ],
   "source": [
    "# Setup: import utils and display paths\n",
    "from pathlib import Path\n",
    "import pandas as pd\n",
    "from src.utils.ingest import load_raw_csvs, save_interim\n",
    "from src.utils.paths import RAW_DIR, INTERIM_DIR\n",
    "RAW_DIR, INTERIM_DIR"
   ]
  },
  {
   "cell_type": "code",
   "execution_count": 2,
   "id": "ae8629f0",
   "metadata": {},
   "outputs": [
    {
     "data": {
      "text/plain": [
       "([], {})"
      ]
     },
     "execution_count": 2,
     "metadata": {},
     "output_type": "execute_result"
    }
   ],
   "source": [
    "# Load all raw CSVs in data/raw\n",
    "raw = load_raw_csvs()\n",
    "list(raw.keys()), {k: v.shape for k, v in raw.items()}"
   ]
  },
  {
   "cell_type": "code",
   "execution_count": 3,
   "id": "f214ae19",
   "metadata": {},
   "outputs": [],
   "source": [
    "# Example cleaning function you can adapt\n",
    "def basic_clean(df: pd.DataFrame) -> pd.DataFrame:\n",
    "    out = df.copy()\n",
    "    # Standardize column names\n",
    "    out.columns = [c.strip().lower().replace(\" \", \"_\") for c in out.columns]\n",
    "    # Drop exact duplicates\n",
    "    out = out.drop_duplicates()\n",
    "    return out\n",
    "\n",
    "# If a 'players' CSV exists, clean and preview\n",
    "if 'players' in raw:\n",
    "    players_clean = basic_clean(raw['players'])\n",
    "    players_clean.head()"
   ]
  },
  {
   "cell_type": "code",
   "execution_count": 4,
   "id": "d4e5a79b",
   "metadata": {},
   "outputs": [],
   "source": [
    "# Save cleaned data to interim as Parquet\n",
    "if 'players' in globals():\n",
    "    out_path = save_interim(players_clean, 'players_cleaned')\n",
    "    out_path, out_path.exists()"
   ]
  },
  {
   "cell_type": "markdown",
   "id": "ad933d3c",
   "metadata": {},
   "source": [
    "## Next steps\n",
    "- Build features in `01_feature_build.ipynb` using `src/features/`.\n",
    "- Train a baseline in `02_match_outcome_baseline.ipynb`."
   ]
  },
  {
   "cell_type": "code",
   "execution_count": 6,
   "id": "8389ede4",
   "metadata": {},
   "outputs": [
    {
     "data": {
      "text/plain": [
       "(['squad_1', 'squad_mental', 'squad_physical', 'squad_technical'],\n",
       " {'squad_1': (29, 35),\n",
       "  'squad_mental': (29, 18),\n",
       "  'squad_physical': (29, 12),\n",
       "  'squad_technical': (29, 32)})"
      ]
     },
     "execution_count": 6,
     "metadata": {},
     "output_type": "execute_result"
    }
   ],
   "source": [
    "# Load FM HTML exports\n",
    "from src.utils.ingest import load_raw_htmls, parse_fm_html_table\n",
    "html = load_raw_htmls()\n",
    "list(html.keys()), {k: v.shape for k, v in html.items()}"
   ]
  },
  {
   "cell_type": "code",
   "execution_count": 7,
   "id": "da108f3f",
   "metadata": {},
   "outputs": [],
   "source": [
    "# Save squad table (first HTML) to interim\n",
    "if html:\n",
    "    first_key = sorted(html.keys())[0]\n",
    "    squad_df = html[first_key]\n",
    "    out_path = save_interim(squad_df, f\"{first_key}_cleaned\")\n",
    "    out_path"
   ]
  },
  {
   "cell_type": "code",
   "execution_count": null,
   "id": "89183d5c",
   "metadata": {},
   "outputs": [],
   "source": [
    "# Merge multiple squad tables into a single per-player dataset\n",
    "from src.features.squad import merge_squad_tables\n",
    "if html:\n",
    "    squad_merged = merge_squad_tables(html)\n",
    "    squad_merged.shape, squad_merged.columns[:10].tolist()"
   ]
  },
  {
   "cell_type": "code",
   "execution_count": null,
   "id": "622a4b07",
   "metadata": {},
   "outputs": [],
   "source": [
    "# Save merged squad features\n",
    "from src.utils.paths import FEATURES_DIR\n",
    "if 'squad_merged' in globals():\n",
    "    FEATURES_DIR.mkdir(parents=True, exist_ok=True)\n",
    "    feat_path = FEATURES_DIR / 'squad_features.parquet'\n",
    "    squad_merged.to_parquet(feat_path, index=False)\n",
    "    feat_path, feat_path.exists()"
   ]
  }
 ],
 "metadata": {
  "kernelspec": {
   "display_name": ".venv",
   "language": "python",
   "name": "python3"
  },
  "language_info": {
   "codemirror_mode": {
    "name": "ipython",
    "version": 3
   },
   "file_extension": ".py",
   "mimetype": "text/x-python",
   "name": "python",
   "nbconvert_exporter": "python",
   "pygments_lexer": "ipython3",
   "version": "3.12.10"
  }
 },
 "nbformat": 4,
 "nbformat_minor": 5
}
