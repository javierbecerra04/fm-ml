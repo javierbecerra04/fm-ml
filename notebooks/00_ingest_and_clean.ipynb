{
 "cells": [
  {
   "cell_type": "markdown",
   "id": "6c885f90",
   "metadata": {},
   "source": [
    "# Ingest & Clean\n",
    "\n",
    "Load raw CSVs from `data/raw/`, fix dtypes, remove duplicates, handle missing values."
   ]
  }
 ],
 "metadata": {},
 "nbformat": 4,
 "nbformat_minor": 5
}