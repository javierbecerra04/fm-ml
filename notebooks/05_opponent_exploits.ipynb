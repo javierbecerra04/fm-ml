{
 "cells": [
  {
   "cell_type": "markdown",
   "id": "039249d6",
   "metadata": {},
   "source": [
    "# Opponent Exploit Finder\n",
    "\n",
    "Generate match prep insights vs next opponent."
   ]
  }
 ],
 "metadata": {},
 "nbformat": 4,
 "nbformat_minor": 5
}