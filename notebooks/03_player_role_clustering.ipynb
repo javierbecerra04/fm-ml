{
 "cells": [
  {
   "cell_type": "markdown",
   "id": "b666b213",
   "metadata": {},
   "source": [
    "# Player Role Clustering\n",
    "\n",
    "PCA → UMAP → clustering + role cards."
   ]
  }
 ],
 "metadata": {},
 "nbformat": 4,
 "nbformat_minor": 5
}