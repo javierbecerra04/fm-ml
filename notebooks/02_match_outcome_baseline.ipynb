{
 "cells": [
  {
   "cell_type": "markdown",
   "id": "9bd66a6e",
   "metadata": {},
   "source": [
    "# Match Outcome Prediction\n",
    "\n",
    "Baselines → logistic regression → gradient boosted trees."
   ]
  }
 ],
 "metadata": {},
 "nbformat": 4,
 "nbformat_minor": 5
}